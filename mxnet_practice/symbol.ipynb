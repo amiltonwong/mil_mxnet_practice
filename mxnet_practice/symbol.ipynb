{
 "cells": [
  {
   "cell_type": "markdown",
   "metadata": {},
   "source": [
    "# Symbol - Neural network graphs and auto-differentiation\n",
    "\n",
    "In a [previous tutorial](http://mxnet.io/tutorials/basic/ndarray.html), we introduced `NDArray`,\n",
    "the basic data structure for manipulating data in MXNet.\n",
    "And just using NDArray by itself, we can execute a wide range of mathematical operations.\n",
    "In fact, we could define and update a full neural network just by using `NDArray`.\n",
    "`NDArray` allows you to write programs for scientific computation\n",
    "in an imperative fashion, making full use of the native control of any front-end language.\n",
    "So you might wonder, why don't we just use `NDArray` for all computation?\n",
    "\n",
    "MXNet provides the Symbol API, an interface for symbolic programming.\n",
    "With symbolic programming, rather than executing operations step by step,\n",
    "we first define a *computation graph*.\n",
    "This graph contains placeholders for inputs and designated outputs.\n",
    "We can then compile the graph, yielding a function\n",
    "that can be bound to `NDArray`s and run.\n",
    "MXNet's Symbol API is similar to the network configurations\n",
    "used by [Caffe](http://caffe.berkeleyvision.org/)\n",
    "and the symbolic programming in [Theano](http://deeplearning.net/software/theano/).\n",
    "\n",
    "Another advantage conferred by symbolic approach is that\n",
    "we can optimize our functions before using them.\n",
    "For example, when we execute mathematical computations in imperative fashion,\n",
    "we don't know at the time that we run each operation,\n",
    "which values will be needed later on.\n",
    "But with symbolic programming, we declare the required outputs in advance.\n",
    "This means that we can recycle memory allocated in intermediate steps,\n",
    "as by performing operations in place. Symbolic API also uses less memory for the\n",
    "same network. Refer to [How To](http://mxnet.io/how_to/index.html) and\n",
    "[Architecture](http://mxnet.io/architecture/index.html) section to know more.\n",
    "\n",
    "In our design notes, we present [a more thorough discussion on the comparative strengths\n",
    "of imperative and symbolic programing](http://mxnet.io/architecture/program_model.html).\n",
    "But in this document, we'll focus on teaching you how to use MXNet's Symbol API.\n",
    "In MXNet, we can compose Symbols from other Symbols, using operators,\n",
    "such as simple matrix operations (e.g. \"+\"),\n",
    "or whole neural network layers (e.g. convolution layer).\n",
    "Operator can take multiple input variables,\n",
    "can produce multiple output symbols\n",
    "and can maintain internal state symbols.\n",
    "\n",
    "For a visual explanation of these concepts, see\n",
    "[Symbolic Configuration and Execution in Pictures](http://mxnet.io/api/python/symbol_in_pictures.html).\n",
    "\n",
    "To make things concrete, let's take a hands-on look at the Symbol API.\n",
    "There are a few different ways to compose a `Symbol`.\n",
    "\n",
    "## Prerequisites\n",
    "\n",
    "To complete this tutorial, we need:\n",
    "\n",
    "- MXNet. See the instructions for your operating system in [Setup and Installation](http://mxnet.io/get_started/install.html)\n",
    "- [Jupyter](http://jupyter.org/)\n",
    "    ```\n",
    "    pip install jupyter\n",
    "    ```\n",
    "- GPUs - A section of this tutorial uses GPUs. If you don't have GPUs on your machine, simply\n",
    "set the variable gpu_device to mx.cpu().\n",
    "\n",
    "## Basic Symbol Composition\n",
    "\n",
    "### Basic Operators\n",
    "\n",
    "The following example builds a simple expression: `a + b`.\n",
    "First, we create two placeholders with  `mx.sym.Variable`,\n",
    "giving them the names `a` and `b`.\n",
    "We then construct the desired symbol by using the operator `+`.\n",
    "We don't need to name our variables while creating them,\n",
    "MXNet will automatically generate a unique name for each.\n",
    "In the example below, `c` is assigned a unique name automatically."
   ]
  },
  {
   "cell_type": "code",
   "execution_count": 20,
   "metadata": {},
   "outputs": [
    {
     "data": {
      "text/plain": [
       "(<Symbol a>, <Symbol b>, <Symbol _plus4>)"
      ]
     },
     "execution_count": 20,
     "metadata": {},
     "output_type": "execute_result"
    }
   ],
   "source": [
    "import mxnet as mx\n",
    "a = mx.sym.Variable('a')\n",
    "b = mx.sym.Variable('b')\n",
    "c = a + b\n",
    "(a, b, c)"
   ]
  },
  {
   "cell_type": "code",
   "execution_count": 19,
   "metadata": {
    "collapsed": true
   },
   "outputs": [],
   "source": [
    "??mx.sym.Variable"
   ]
  },
  {
   "cell_type": "markdown",
   "metadata": {},
   "source": [
    "Most operators supported by `NDArray` are also supported by `Symbol`, for example:"
   ]
  },
  {
   "cell_type": "code",
   "execution_count": 2,
   "metadata": {},
   "outputs": [
    {
     "data": {
      "image/svg+xml": [
       "<?xml version=\"1.0\" encoding=\"UTF-8\" standalone=\"no\"?>\n",
       "<!DOCTYPE svg PUBLIC \"-//W3C//DTD SVG 1.1//EN\"\n",
       " \"http://www.w3.org/Graphics/SVG/1.1/DTD/svg11.dtd\">\n",
       "<!-- Generated by graphviz version 2.36.0 (20140111.2315)\n",
       " -->\n",
       "<!-- Title: plot Pages: 1 -->\n",
       "<svg width=\"214pt\" height=\"442pt\"\n",
       " viewBox=\"0.00 0.00 214.00 442.00\" xmlns=\"http://www.w3.org/2000/svg\" xmlns:xlink=\"http://www.w3.org/1999/xlink\">\n",
       "<g id=\"graph0\" class=\"graph\" transform=\"scale(1 1) rotate(0) translate(4 438)\">\n",
       "<title>plot</title>\n",
       "<polygon fill=\"white\" stroke=\"none\" points=\"-4,4 -4,-438 210,-438 210,4 -4,4\"/>\n",
       "<!-- a -->\n",
       "<g id=\"node1\" class=\"node\"><title>a</title>\n",
       "<ellipse fill=\"#8dd3c7\" stroke=\"black\" cx=\"47\" cy=\"-29\" rx=\"47\" ry=\"29\"/>\n",
       "<text text-anchor=\"middle\" x=\"47\" y=\"-25.3\" font-family=\"Times,serif\" font-size=\"14.00\">a</text>\n",
       "</g>\n",
       "<!-- b -->\n",
       "<g id=\"node2\" class=\"node\"><title>b</title>\n",
       "<ellipse fill=\"#8dd3c7\" stroke=\"black\" cx=\"159\" cy=\"-29\" rx=\"47\" ry=\"29\"/>\n",
       "<text text-anchor=\"middle\" x=\"159\" y=\"-25.3\" font-family=\"Times,serif\" font-size=\"14.00\">b</text>\n",
       "</g>\n",
       "<!-- _mul0 -->\n",
       "<g id=\"node3\" class=\"node\"><title>_mul0</title>\n",
       "<polygon fill=\"#fccde5\" stroke=\"black\" points=\"94,-152 -7.10543e-15,-152 -7.10543e-15,-94 94,-94 94,-152\"/>\n",
       "<text text-anchor=\"middle\" x=\"47\" y=\"-119.3\" font-family=\"Times,serif\" font-size=\"14.00\">_mul0</text>\n",
       "</g>\n",
       "<!-- _mul0&#45;&gt;a -->\n",
       "<g id=\"edge1\" class=\"edge\"><title>_mul0&#45;&gt;a</title>\n",
       "<path fill=\"none\" stroke=\"black\" d=\"M47,-83.7443C47,-75.2043 47,-66.2977 47,-58.2479\"/>\n",
       "<polygon fill=\"black\" stroke=\"black\" points=\"47,-93.8971 42.5001,-83.897 47,-88.8971 47.0001,-83.8971 47.0001,-83.8971 47.0001,-83.8971 47,-88.8971 51.5001,-83.8971 47,-93.8971 47,-93.8971\"/>\n",
       "</g>\n",
       "<!-- _mul0&#45;&gt;b -->\n",
       "<g id=\"edge2\" class=\"edge\"><title>_mul0&#45;&gt;b</title>\n",
       "<path fill=\"none\" stroke=\"black\" d=\"M89.3281,-87.2305C103.403,-75.6693 118.704,-63.1001 131.373,-52.6936\"/>\n",
       "<polygon fill=\"black\" stroke=\"black\" points=\"81.2123,-93.8971 86.0832,-84.0724 85.0759,-90.7234 88.9395,-87.5496 88.9395,-87.5496 88.9395,-87.5496 85.0759,-90.7234 91.7959,-91.0269 81.2123,-93.8971 81.2123,-93.8971\"/>\n",
       "</g>\n",
       "<!-- dot0 -->\n",
       "<g id=\"node4\" class=\"node\"><title>dot0</title>\n",
       "<polygon fill=\"#fccde5\" stroke=\"black\" points=\"206,-152 112,-152 112,-94 206,-94 206,-152\"/>\n",
       "<text text-anchor=\"middle\" x=\"159\" y=\"-119.3\" font-family=\"Times,serif\" font-size=\"14.00\">dot0</text>\n",
       "</g>\n",
       "<!-- dot0&#45;&gt;a -->\n",
       "<g id=\"edge3\" class=\"edge\"><title>dot0&#45;&gt;a</title>\n",
       "<path fill=\"none\" stroke=\"black\" d=\"M116.672,-87.2305C102.597,-75.6693 87.2958,-63.1001 74.627,-52.6936\"/>\n",
       "<polygon fill=\"black\" stroke=\"black\" points=\"124.788,-93.8971 114.204,-91.0269 120.924,-90.7234 117.06,-87.5496 117.06,-87.5496 117.06,-87.5496 120.924,-90.7234 119.917,-84.0724 124.788,-93.8971 124.788,-93.8971\"/>\n",
       "</g>\n",
       "<!-- dot0&#45;&gt;b -->\n",
       "<g id=\"edge4\" class=\"edge\"><title>dot0&#45;&gt;b</title>\n",
       "<path fill=\"none\" stroke=\"black\" d=\"M159,-83.7443C159,-75.2043 159,-66.2977 159,-58.2479\"/>\n",
       "<polygon fill=\"black\" stroke=\"black\" points=\"159,-93.8971 154.5,-83.897 159,-88.8971 159,-83.8971 159,-83.8971 159,-83.8971 159,-88.8971 163.5,-83.8971 159,-93.8971 159,-93.8971\"/>\n",
       "</g>\n",
       "<!-- _plus1 -->\n",
       "<g id=\"node5\" class=\"node\"><title>_plus1</title>\n",
       "<polygon fill=\"#fccde5\" stroke=\"black\" points=\"150,-246 56,-246 56,-188 150,-188 150,-246\"/>\n",
       "<text text-anchor=\"middle\" x=\"103\" y=\"-213.3\" font-family=\"Times,serif\" font-size=\"14.00\">_plus1</text>\n",
       "</g>\n",
       "<!-- _plus1&#45;&gt;_mul0 -->\n",
       "<g id=\"edge5\" class=\"edge\"><title>_plus1&#45;&gt;_mul0</title>\n",
       "<path fill=\"none\" stroke=\"black\" d=\"M80.5686,-179.148C75.113,-170.186 69.3635,-160.74 64.1943,-152.248\"/>\n",
       "<polygon fill=\"black\" stroke=\"black\" points=\"85.8939,-187.897 76.8505,-181.695 83.2941,-183.626 80.6944,-179.355 80.6944,-179.355 80.6944,-179.355 83.2941,-183.626 84.5383,-177.015 85.8939,-187.897 85.8939,-187.897\"/>\n",
       "</g>\n",
       "<!-- _plus1&#45;&gt;dot0 -->\n",
       "<g id=\"edge6\" class=\"edge\"><title>_plus1&#45;&gt;dot0</title>\n",
       "<path fill=\"none\" stroke=\"black\" d=\"M125.431,-179.148C130.887,-170.186 136.637,-160.74 141.806,-152.248\"/>\n",
       "<polygon fill=\"black\" stroke=\"black\" points=\"120.106,-187.897 121.462,-177.015 122.706,-183.626 125.306,-179.355 125.306,-179.355 125.306,-179.355 122.706,-183.626 129.15,-181.695 120.106,-187.897 120.106,-187.897\"/>\n",
       "</g>\n",
       "<!-- reshape0 -->\n",
       "<g id=\"node6\" class=\"node\"><title>reshape0</title>\n",
       "<polygon fill=\"#fdb462\" stroke=\"black\" points=\"150,-340 56,-340 56,-282 150,-282 150,-340\"/>\n",
       "<text text-anchor=\"middle\" x=\"103\" y=\"-307.3\" font-family=\"Times,serif\" font-size=\"14.00\">reshape0</text>\n",
       "</g>\n",
       "<!-- reshape0&#45;&gt;_plus1 -->\n",
       "<g id=\"edge7\" class=\"edge\"><title>reshape0&#45;&gt;_plus1</title>\n",
       "<path fill=\"none\" stroke=\"black\" d=\"M103,-271.744C103,-263.204 103,-254.298 103,-246.248\"/>\n",
       "<polygon fill=\"black\" stroke=\"black\" points=\"103,-281.897 98.5001,-271.897 103,-276.897 103,-271.897 103,-271.897 103,-271.897 103,-276.897 107.5,-271.897 103,-281.897 103,-281.897\"/>\n",
       "</g>\n",
       "<!-- broadcast_to0 -->\n",
       "<g id=\"node7\" class=\"node\"><title>broadcast_to0</title>\n",
       "<polygon fill=\"#fccde5\" stroke=\"black\" points=\"150,-434 56,-434 56,-376 150,-376 150,-434\"/>\n",
       "<text text-anchor=\"middle\" x=\"103\" y=\"-401.3\" font-family=\"Times,serif\" font-size=\"14.00\">broadcast_to0</text>\n",
       "</g>\n",
       "<!-- broadcast_to0&#45;&gt;reshape0 -->\n",
       "<g id=\"edge8\" class=\"edge\"><title>broadcast_to0&#45;&gt;reshape0</title>\n",
       "<path fill=\"none\" stroke=\"black\" d=\"M103,-365.744C103,-357.204 103,-348.298 103,-340.248\"/>\n",
       "<polygon fill=\"black\" stroke=\"black\" points=\"103,-375.897 98.5001,-365.897 103,-370.897 103,-365.897 103,-365.897 103,-365.897 103,-370.897 107.5,-365.897 103,-375.897 103,-375.897\"/>\n",
       "</g>\n",
       "</g>\n",
       "</svg>\n"
      ],
      "text/plain": [
       "<graphviz.dot.Digraph at 0x7f7a283c7048>"
      ]
     },
     "execution_count": 2,
     "metadata": {},
     "output_type": "execute_result"
    }
   ],
   "source": [
    "# elemental wise multiplication\n",
    "d = a * b\n",
    "# matrix multiplication\n",
    "e = mx.sym.dot(a, b)\n",
    "# reshape\n",
    "f = mx.sym.reshape(d+e, shape=(1,4))\n",
    "# broadcast\n",
    "g = mx.sym.broadcast_to(f, shape=(2,4))\n",
    "# plot\n",
    "mx.viz.plot_network(symbol=g)"
   ]
  },
  {
   "cell_type": "markdown",
   "metadata": {},
   "source": [
    "The computations declared in the above examples can be bound to the input data\n",
    "for evaluation by using `bind` method. We discuss this further in the\n",
    "[symbol manipulation](#Symbol Manipulation) section.\n",
    "\n",
    "### Basic Neural Networks\n",
    "\n",
    "Besides the basic operators, `Symbol` also supports a rich set of neural network layers.\n",
    "The following example constructs a two layer fully connected neural network\n",
    "and then visualizes the structure of that network given the input data shape."
   ]
  },
  {
   "cell_type": "code",
   "execution_count": 3,
   "metadata": {},
   "outputs": [
    {
     "data": {
      "image/svg+xml": [
       "<?xml version=\"1.0\" encoding=\"UTF-8\" standalone=\"no\"?>\n",
       "<!DOCTYPE svg PUBLIC \"-//W3C//DTD SVG 1.1//EN\"\n",
       " \"http://www.w3.org/Graphics/SVG/1.1/DTD/svg11.dtd\">\n",
       "<!-- Generated by graphviz version 2.36.0 (20140111.2315)\n",
       " -->\n",
       "<!-- Title: plot Pages: 1 -->\n",
       "<svg width=\"214pt\" height=\"506pt\"\n",
       " viewBox=\"0.00 0.00 214.00 506.00\" xmlns=\"http://www.w3.org/2000/svg\" xmlns:xlink=\"http://www.w3.org/1999/xlink\">\n",
       "<g id=\"graph0\" class=\"graph\" transform=\"scale(1 1) rotate(0) translate(4 502)\">\n",
       "<title>plot</title>\n",
       "<polygon fill=\"white\" stroke=\"none\" points=\"-4,4 -4,-502 210,-502 210,4 -4,4\"/>\n",
       "<!-- data -->\n",
       "<g id=\"node1\" class=\"node\"><title>data</title>\n",
       "<ellipse fill=\"#8dd3c7\" stroke=\"black\" cx=\"47\" cy=\"-29\" rx=\"47\" ry=\"29\"/>\n",
       "<text text-anchor=\"middle\" x=\"47\" y=\"-25.3\" font-family=\"Times,serif\" font-size=\"14.00\">data</text>\n",
       "</g>\n",
       "<!-- fc1 -->\n",
       "<g id=\"node2\" class=\"node\"><title>fc1</title>\n",
       "<polygon fill=\"#fb8072\" stroke=\"black\" points=\"94,-168 -7.10543e-15,-168 -7.10543e-15,-110 94,-110 94,-168\"/>\n",
       "<text text-anchor=\"middle\" x=\"47\" y=\"-142.8\" font-family=\"Times,serif\" font-size=\"14.00\">FullyConnected</text>\n",
       "<text text-anchor=\"middle\" x=\"47\" y=\"-127.8\" font-family=\"Times,serif\" font-size=\"14.00\">128</text>\n",
       "</g>\n",
       "<!-- fc1&#45;&gt;data -->\n",
       "<g id=\"edge1\" class=\"edge\"><title>fc1&#45;&gt;data</title>\n",
       "<path fill=\"none\" stroke=\"black\" d=\"M47,-99.8131C47,-86.1516 47,-71.0092 47,-58.3283\"/>\n",
       "<polygon fill=\"black\" stroke=\"black\" points=\"47,-109.906 42.5001,-99.9062 47,-104.906 47.0001,-99.9062 47.0001,-99.9062 47.0001,-99.9062 47,-104.906 51.5001,-99.9062 47,-109.906 47,-109.906\"/>\n",
       "<text text-anchor=\"middle\" x=\"57.5\" y=\"-80.3\" font-family=\"Times,serif\" font-size=\"14.00\">200</text>\n",
       "</g>\n",
       "<!-- relu1 -->\n",
       "<g id=\"node3\" class=\"node\"><title>relu1</title>\n",
       "<polygon fill=\"#ffffb3\" stroke=\"black\" points=\"94,-278 -7.10543e-15,-278 -7.10543e-15,-220 94,-220 94,-278\"/>\n",
       "<text text-anchor=\"middle\" x=\"47\" y=\"-252.8\" font-family=\"Times,serif\" font-size=\"14.00\">Activation</text>\n",
       "<text text-anchor=\"middle\" x=\"47\" y=\"-237.8\" font-family=\"Times,serif\" font-size=\"14.00\">relu</text>\n",
       "</g>\n",
       "<!-- relu1&#45;&gt;fc1 -->\n",
       "<g id=\"edge2\" class=\"edge\"><title>relu1&#45;&gt;fc1</title>\n",
       "<path fill=\"none\" stroke=\"black\" d=\"M47,-209.813C47,-196.152 47,-181.009 47,-168.328\"/>\n",
       "<polygon fill=\"black\" stroke=\"black\" points=\"47,-219.906 42.5001,-209.906 47,-214.906 47.0001,-209.906 47.0001,-209.906 47.0001,-209.906 47,-214.906 51.5001,-209.906 47,-219.906 47,-219.906\"/>\n",
       "<text text-anchor=\"middle\" x=\"57.5\" y=\"-190.3\" font-family=\"Times,serif\" font-size=\"14.00\">128</text>\n",
       "</g>\n",
       "<!-- fc2 -->\n",
       "<g id=\"node4\" class=\"node\"><title>fc2</title>\n",
       "<polygon fill=\"#fb8072\" stroke=\"black\" points=\"94,-388 -7.10543e-15,-388 -7.10543e-15,-330 94,-330 94,-388\"/>\n",
       "<text text-anchor=\"middle\" x=\"47\" y=\"-362.8\" font-family=\"Times,serif\" font-size=\"14.00\">FullyConnected</text>\n",
       "<text text-anchor=\"middle\" x=\"47\" y=\"-347.8\" font-family=\"Times,serif\" font-size=\"14.00\">10</text>\n",
       "</g>\n",
       "<!-- fc2&#45;&gt;relu1 -->\n",
       "<g id=\"edge3\" class=\"edge\"><title>fc2&#45;&gt;relu1</title>\n",
       "<path fill=\"none\" stroke=\"black\" d=\"M47,-319.813C47,-306.152 47,-291.009 47,-278.328\"/>\n",
       "<polygon fill=\"black\" stroke=\"black\" points=\"47,-329.906 42.5001,-319.906 47,-324.906 47.0001,-319.906 47.0001,-319.906 47.0001,-319.906 47,-324.906 51.5001,-319.906 47,-329.906 47,-329.906\"/>\n",
       "<text text-anchor=\"middle\" x=\"57.5\" y=\"-300.3\" font-family=\"Times,serif\" font-size=\"14.00\">128</text>\n",
       "</g>\n",
       "<!-- out_label -->\n",
       "<g id=\"node5\" class=\"node\"><title>out_label</title>\n",
       "<ellipse fill=\"#8dd3c7\" stroke=\"black\" cx=\"159\" cy=\"-359\" rx=\"47\" ry=\"29\"/>\n",
       "<text text-anchor=\"middle\" x=\"159\" y=\"-355.3\" font-family=\"Times,serif\" font-size=\"14.00\">out_label</text>\n",
       "</g>\n",
       "<!-- out -->\n",
       "<g id=\"node6\" class=\"node\"><title>out</title>\n",
       "<polygon fill=\"#fccde5\" stroke=\"black\" points=\"170,-498 76,-498 76,-440 170,-440 170,-498\"/>\n",
       "<text text-anchor=\"middle\" x=\"123\" y=\"-465.3\" font-family=\"Times,serif\" font-size=\"14.00\">out</text>\n",
       "</g>\n",
       "<!-- out&#45;&gt;fc2 -->\n",
       "<g id=\"edge4\" class=\"edge\"><title>out&#45;&gt;fc2</title>\n",
       "<path fill=\"none\" stroke=\"black\" d=\"M97.2538,-431.413C87.3525,-417.343 76.2083,-401.506 66.9347,-388.328\"/>\n",
       "<polygon fill=\"black\" stroke=\"black\" points=\"103.23,-439.906 93.7952,-434.318 100.353,-435.817 97.4753,-431.728 97.4753,-431.728 97.4753,-431.728 100.353,-435.817 101.155,-429.138 103.23,-439.906 103.23,-439.906\"/>\n",
       "<text text-anchor=\"middle\" x=\"97\" y=\"-410.3\" font-family=\"Times,serif\" font-size=\"14.00\">10</text>\n",
       "</g>\n",
       "<!-- out&#45;&gt;out_label -->\n",
       "<g id=\"edge5\" class=\"edge\"><title>out&#45;&gt;out_label</title>\n",
       "<path fill=\"none\" stroke=\"black\" d=\"M135.648,-430.057C140.313,-416.062 145.505,-400.485 149.807,-387.579\"/>\n",
       "<polygon fill=\"black\" stroke=\"black\" points=\"132.365,-439.906 131.258,-428.996 133.946,-435.163 135.527,-430.419 135.527,-430.419 135.527,-430.419 133.946,-435.163 139.796,-431.842 132.365,-439.906 132.365,-439.906\"/>\n",
       "</g>\n",
       "</g>\n",
       "</svg>\n"
      ],
      "text/plain": [
       "<graphviz.dot.Digraph at 0x7f7a283c7978>"
      ]
     },
     "execution_count": 3,
     "metadata": {},
     "output_type": "execute_result"
    }
   ],
   "source": [
    "net = mx.sym.Variable('data')\n",
    "net = mx.sym.FullyConnected(data=net, name='fc1', num_hidden=128)\n",
    "net = mx.sym.Activation(data=net, name='relu1', act_type=\"relu\")\n",
    "net = mx.sym.FullyConnected(data=net, name='fc2', num_hidden=10)\n",
    "net = mx.sym.SoftmaxOutput(data=net, name='out')\n",
    "mx.viz.plot_network(net, shape={'data':(100,200)})"
   ]
  },
  {
   "cell_type": "markdown",
   "metadata": {},
   "source": [
    "Each symbol takes a (unique) string name. NDArray and Symbol both represent\n",
    "a single tensor. *Operators* represent the computation between tensors.\n",
    "Operators take symbol (or NDArray) as inputs and might also additionally accept\n",
    "other hyperparameters such as the number of hidden neurons (*num_hidden*) or the\n",
    "activation type (*act_type*) and produce the output.\n",
    "\n",
    "We can view a symbol simply as a function taking several arguments.\n",
    "And we can retrieve those arguments with the following method call:"
   ]
  },
  {
   "cell_type": "code",
   "execution_count": 4,
   "metadata": {},
   "outputs": [
    {
     "data": {
      "text/plain": [
       "['data', 'fc1_weight', 'fc1_bias', 'fc2_weight', 'fc2_bias', 'out_label']"
      ]
     },
     "execution_count": 4,
     "metadata": {},
     "output_type": "execute_result"
    }
   ],
   "source": [
    "net.list_arguments()"
   ]
  },
  {
   "cell_type": "markdown",
   "metadata": {},
   "source": [
    "These arguments are the parameters and inputs needed by each symbol:\n",
    "\n",
    "- *data*: Input data needed by the variable *data*.\n",
    "- *fc1_weight* and *fc1_bias*: The weight and bias for the first fully connected layer *fc1*.\n",
    "- *fc2_weight* and *fc2_bias*: The weight and bias for the second fully connected layer *fc2*.\n",
    "- *out_label*: The label needed by the loss.\n",
    "\n",
    "We can also specify the names explicitly:"
   ]
  },
  {
   "cell_type": "code",
   "execution_count": 5,
   "metadata": {},
   "outputs": [
    {
     "data": {
      "text/plain": [
       "['data', 'myweight', 'fc1_bias']"
      ]
     },
     "execution_count": 5,
     "metadata": {},
     "output_type": "execute_result"
    }
   ],
   "source": [
    "net = mx.symbol.Variable('data')\n",
    "w = mx.symbol.Variable('myweight')\n",
    "net = mx.symbol.FullyConnected(data=net, weight=w, name='fc1', num_hidden=128)\n",
    "net.list_arguments()"
   ]
  },
  {
   "cell_type": "markdown",
   "metadata": {},
   "source": [
    "In the above example, `FullyConnected` layer has 3 inputs: data, weight, bias.\n",
    "When any input is not specified, a variable will be automatically generated for it.\n",
    "\n",
    "## More Complicated Composition\n",
    "\n",
    "MXNet provides well-optimized symbols for layers commonly used in deep learning\n",
    "(see [src/operator](https://github.com/dmlc/mxnet/tree/master/src/operator)).\n",
    "We can also define new operators in Python. The following example first\n",
    "performs an element-wise add between two symbols, then feeds them to the fully\n",
    "connected operator:"
   ]
  },
  {
   "cell_type": "code",
   "execution_count": 6,
   "metadata": {},
   "outputs": [
    {
     "data": {
      "text/plain": [
       "['data1', 'data2', 'fc1_weight', 'fc1_bias']"
      ]
     },
     "execution_count": 6,
     "metadata": {},
     "output_type": "execute_result"
    }
   ],
   "source": [
    "lhs = mx.symbol.Variable('data1')\n",
    "rhs = mx.symbol.Variable('data2')\n",
    "net = mx.symbol.FullyConnected(data=lhs + rhs, name='fc1', num_hidden=128)\n",
    "net.list_arguments()"
   ]
  },
  {
   "cell_type": "markdown",
   "metadata": {},
   "source": [
    "We can also construct a symbol in a more flexible way than the single forward\n",
    "composition depicted in the preceding example:"
   ]
  },
  {
   "cell_type": "code",
   "execution_count": 7,
   "metadata": {},
   "outputs": [
    {
     "data": {
      "text/plain": [
       "['data', 'fc1_weight', 'fc1_bias', 'fc2_weight', 'fc2_bias']"
      ]
     },
     "execution_count": 7,
     "metadata": {},
     "output_type": "execute_result"
    }
   ],
   "source": [
    "data = mx.symbol.Variable('data')\n",
    "net1 = mx.symbol.FullyConnected(data=data, name='fc1', num_hidden=10)\n",
    "net1.list_arguments()\n",
    "net2 = mx.symbol.Variable('data2')\n",
    "net2 = mx.symbol.FullyConnected(data=net2, name='fc2', num_hidden=10)\n",
    "composed = net2(data2=net1, name='composed')\n",
    "composed.list_arguments()"
   ]
  },
  {
   "cell_type": "markdown",
   "metadata": {},
   "source": [
    "In this example, *net2* is used as a function to apply to an existing symbol *net1*,\n",
    "and the resulting *composed* symbol will have all the attributes of *net1* and *net2*.\n",
    "\n",
    "Once you start building some bigger networks, you might want to name some\n",
    "symbols with a common prefix to outline the structure of your network.\n",
    "You can use the\n",
    "[Prefix](https://github.com/dmlc/mxnet/blob/master/python/mxnet/name.py)\n",
    "NameManager as follows:"
   ]
  },
  {
   "cell_type": "code",
   "execution_count": 8,
   "metadata": {},
   "outputs": [
    {
     "data": {
      "text/plain": [
       "['data',\n",
       " 'layer1_fc_weight',\n",
       " 'layer1_fc_bias',\n",
       " 'layer2_fc_weight',\n",
       " 'layer2_fc_bias']"
      ]
     },
     "execution_count": 8,
     "metadata": {},
     "output_type": "execute_result"
    }
   ],
   "source": [
    "data = mx.sym.Variable(\"data\")\n",
    "net = data\n",
    "n_layer = 2\n",
    "for i in range(n_layer):\n",
    "    with mx.name.Prefix(\"layer%d_\" % (i + 1)):\n",
    "        net = mx.sym.FullyConnected(data=net, name=\"fc\", num_hidden=100)\n",
    "net.list_arguments()"
   ]
  },
  {
   "cell_type": "markdown",
   "metadata": {},
   "source": [
    "### Modularized Construction for Deep Networks\n",
    "\n",
    "Constructing a *deep* network layer by layer, (like the Google Inception network),\n",
    "can be tedious owing to the large number of layers.\n",
    "So, for such networks, we often modularize the construction.\n",
    "\n",
    "For example, in Google Inception network,\n",
    "we can first define a factory function which chains the convolution,\n",
    "batch normalization and rectified linear unit (ReLU) activation layers together."
   ]
  },
  {
   "cell_type": "code",
   "execution_count": 9,
   "metadata": {},
   "outputs": [
    {
     "data": {
      "image/svg+xml": [
       "<?xml version=\"1.0\" encoding=\"UTF-8\" standalone=\"no\"?>\n",
       "<!DOCTYPE svg PUBLIC \"-//W3C//DTD SVG 1.1//EN\"\n",
       " \"http://www.w3.org/Graphics/SVG/1.1/DTD/svg11.dtd\">\n",
       "<!-- Generated by graphviz version 2.36.0 (20140111.2315)\n",
       " -->\n",
       "<!-- Title: plot Pages: 1 -->\n",
       "<svg width=\"110pt\" height=\"396pt\"\n",
       " viewBox=\"0.00 0.00 110.00 396.00\" xmlns=\"http://www.w3.org/2000/svg\" xmlns:xlink=\"http://www.w3.org/1999/xlink\">\n",
       "<g id=\"graph0\" class=\"graph\" transform=\"scale(1 1) rotate(0) translate(4 392)\">\n",
       "<title>plot</title>\n",
       "<polygon fill=\"white\" stroke=\"none\" points=\"-4,4 -4,-392 106,-392 106,4 -4,4\"/>\n",
       "<!-- Previous Output -->\n",
       "<g id=\"node1\" class=\"node\"><title>Previous Output</title>\n",
       "<ellipse fill=\"#8dd3c7\" stroke=\"black\" cx=\"47\" cy=\"-29\" rx=\"47\" ry=\"29\"/>\n",
       "<text text-anchor=\"middle\" x=\"47\" y=\"-25.3\" font-family=\"Times,serif\" font-size=\"14.00\">Previous Output</text>\n",
       "</g>\n",
       "<!-- conv_None -->\n",
       "<g id=\"node2\" class=\"node\"><title>conv_None</title>\n",
       "<polygon fill=\"#fb8072\" stroke=\"black\" points=\"94,-168 -7.10543e-15,-168 -7.10543e-15,-110 94,-110 94,-168\"/>\n",
       "<text text-anchor=\"middle\" x=\"47\" y=\"-142.8\" font-family=\"Times,serif\" font-size=\"14.00\">Convolution</text>\n",
       "<text text-anchor=\"middle\" x=\"47\" y=\"-127.8\" font-family=\"Times,serif\" font-size=\"14.00\">7x7/2x2, 64</text>\n",
       "</g>\n",
       "<!-- conv_None&#45;&gt;Previous Output -->\n",
       "<g id=\"edge1\" class=\"edge\"><title>conv_None&#45;&gt;Previous Output</title>\n",
       "<path fill=\"none\" stroke=\"black\" d=\"M47,-99.8131C47,-86.1516 47,-71.0092 47,-58.3283\"/>\n",
       "<polygon fill=\"black\" stroke=\"black\" points=\"47,-109.906 42.5001,-99.9062 47,-104.906 47.0001,-99.9062 47.0001,-99.9062 47.0001,-99.9062 47,-104.906 51.5001,-99.9062 47,-109.906 47,-109.906\"/>\n",
       "<text text-anchor=\"middle\" x=\"71\" y=\"-80.3\" font-family=\"Times,serif\" font-size=\"14.00\">3x28x28</text>\n",
       "</g>\n",
       "<!-- bn_None -->\n",
       "<g id=\"node3\" class=\"node\"><title>bn_None</title>\n",
       "<polygon fill=\"#bebada\" stroke=\"black\" points=\"94,-278 -7.10543e-15,-278 -7.10543e-15,-220 94,-220 94,-278\"/>\n",
       "<text text-anchor=\"middle\" x=\"47\" y=\"-245.3\" font-family=\"Times,serif\" font-size=\"14.00\">bn_None</text>\n",
       "</g>\n",
       "<!-- bn_None&#45;&gt;conv_None -->\n",
       "<g id=\"edge2\" class=\"edge\"><title>bn_None&#45;&gt;conv_None</title>\n",
       "<path fill=\"none\" stroke=\"black\" d=\"M47,-209.813C47,-196.152 47,-181.009 47,-168.328\"/>\n",
       "<polygon fill=\"black\" stroke=\"black\" points=\"47,-219.906 42.5001,-209.906 47,-214.906 47.0001,-209.906 47.0001,-209.906 47.0001,-209.906 47,-214.906 51.5001,-209.906 47,-219.906 47,-219.906\"/>\n",
       "<text text-anchor=\"middle\" x=\"74.5\" y=\"-190.3\" font-family=\"Times,serif\" font-size=\"14.00\">64x11x11</text>\n",
       "</g>\n",
       "<!-- relu_None -->\n",
       "<g id=\"node4\" class=\"node\"><title>relu_None</title>\n",
       "<polygon fill=\"#ffffb3\" stroke=\"black\" points=\"94,-388 -7.10543e-15,-388 -7.10543e-15,-330 94,-330 94,-388\"/>\n",
       "<text text-anchor=\"middle\" x=\"47\" y=\"-362.8\" font-family=\"Times,serif\" font-size=\"14.00\">Activation</text>\n",
       "<text text-anchor=\"middle\" x=\"47\" y=\"-347.8\" font-family=\"Times,serif\" font-size=\"14.00\">relu</text>\n",
       "</g>\n",
       "<!-- relu_None&#45;&gt;bn_None -->\n",
       "<g id=\"edge3\" class=\"edge\"><title>relu_None&#45;&gt;bn_None</title>\n",
       "<path fill=\"none\" stroke=\"black\" d=\"M47,-319.813C47,-306.152 47,-291.009 47,-278.328\"/>\n",
       "<polygon fill=\"black\" stroke=\"black\" points=\"47,-329.906 42.5001,-319.906 47,-324.906 47.0001,-319.906 47.0001,-319.906 47.0001,-319.906 47,-324.906 51.5001,-319.906 47,-329.906 47,-329.906\"/>\n",
       "<text text-anchor=\"middle\" x=\"74.5\" y=\"-300.3\" font-family=\"Times,serif\" font-size=\"14.00\">64x11x11</text>\n",
       "</g>\n",
       "</g>\n",
       "</svg>\n"
      ],
      "text/plain": [
       "<graphviz.dot.Digraph at 0x7f7a28375c18>"
      ]
     },
     "execution_count": 9,
     "metadata": {},
     "output_type": "execute_result"
    }
   ],
   "source": [
    "def ConvFactory(data, num_filter, kernel, stride=(1,1), pad=(0, 0),name=None, suffix=''):\n",
    "    conv = mx.sym.Convolution(data=data, num_filter=num_filter, kernel=kernel,\n",
    "                  stride=stride, pad=pad, name='conv_%s%s' %(name, suffix))\n",
    "    bn = mx.sym.BatchNorm(data=conv, name='bn_%s%s' %(name, suffix))\n",
    "    act = mx.sym.Activation(data=bn, act_type='relu', name='relu_%s%s'\n",
    "                  %(name, suffix))\n",
    "    return act\n",
    "prev = mx.sym.Variable(name=\"Previous Output\")\n",
    "conv_comp = ConvFactory(data=prev, num_filter=64, kernel=(7,7), stride=(2, 2))\n",
    "shape = {\"Previous Output\" : (128, 3, 28, 28)}\n",
    "mx.viz.plot_network(symbol=conv_comp, shape=shape)"
   ]
  },
  {
   "cell_type": "markdown",
   "metadata": {},
   "source": [
    "Then we can define a function that constructs an inception module based on\n",
    "factory function `ConvFactory`."
   ]
  },
  {
   "cell_type": "code",
   "execution_count": 10,
   "metadata": {},
   "outputs": [
    {
     "data": {
      "image/svg+xml": [
       "<?xml version=\"1.0\" encoding=\"UTF-8\" standalone=\"no\"?>\n",
       "<!DOCTYPE svg PUBLIC \"-//W3C//DTD SVG 1.1//EN\"\n",
       " \"http://www.w3.org/Graphics/SVG/1.1/DTD/svg11.dtd\">\n",
       "<!-- Generated by graphviz version 2.36.0 (20140111.2315)\n",
       " -->\n",
       "<!-- Title: plot Pages: 1 -->\n",
       "<svg width=\"454pt\" height=\"1376pt\"\n",
       " viewBox=\"0.00 0.00 454.00 1376.00\" xmlns=\"http://www.w3.org/2000/svg\" xmlns:xlink=\"http://www.w3.org/1999/xlink\">\n",
       "<g id=\"graph0\" class=\"graph\" transform=\"scale(1 1) rotate(0) translate(4 1372)\">\n",
       "<title>plot</title>\n",
       "<polygon fill=\"white\" stroke=\"none\" points=\"-4,4 -4,-1372 450,-1372 450,4 -4,4\"/>\n",
       "<!-- Previous Output -->\n",
       "<g id=\"node1\" class=\"node\"><title>Previous Output</title>\n",
       "<ellipse fill=\"#8dd3c7\" stroke=\"black\" cx=\"189\" cy=\"-29\" rx=\"47\" ry=\"29\"/>\n",
       "<text text-anchor=\"middle\" x=\"189\" y=\"-25.3\" font-family=\"Times,serif\" font-size=\"14.00\">Previous Output</text>\n",
       "</g>\n",
       "<!-- conv_in3a_1x1 -->\n",
       "<g id=\"node2\" class=\"node\"><title>conv_in3a_1x1</title>\n",
       "<polygon fill=\"#fb8072\" stroke=\"black\" points=\"99,-878 5,-878 5,-820 99,-820 99,-878\"/>\n",
       "<text text-anchor=\"middle\" x=\"52\" y=\"-852.8\" font-family=\"Times,serif\" font-size=\"14.00\">Convolution</text>\n",
       "<text text-anchor=\"middle\" x=\"52\" y=\"-837.8\" font-family=\"Times,serif\" font-size=\"14.00\">1x1/1x1, 64</text>\n",
       "</g>\n",
       "<!-- conv_in3a_1x1&#45;&gt;Previous Output -->\n",
       "<g id=\"edge1\" class=\"edge\"><title>conv_in3a_1x1&#45;&gt;Previous Output</title>\n",
       "<path fill=\"none\" stroke=\"black\" d=\"M55.9633,-809.703C58.756,-779.421 62,-736.055 62,-698 62,-698 62,-698 62,-138 62,-91.5463 111.92,-60.8896 149.165,-44.4815\"/>\n",
       "<polygon fill=\"black\" stroke=\"black\" points=\"55.0003,-819.838 51.4664,-809.457 55.4733,-814.861 55.9462,-809.883 55.9462,-809.883 55.9462,-809.883 55.4733,-814.861 60.4261,-810.309 55.0003,-819.838 55.0003,-819.838\"/>\n",
       "<text text-anchor=\"middle\" x=\"86\" y=\"-431.3\" font-family=\"Times,serif\" font-size=\"14.00\">3x28x28</text>\n",
       "</g>\n",
       "<!-- bn_in3a_1x1 -->\n",
       "<g id=\"node3\" class=\"node\"><title>bn_in3a_1x1</title>\n",
       "<polygon fill=\"#bebada\" stroke=\"black\" points=\"94,-1030 -7.10543e-15,-1030 -7.10543e-15,-972 94,-972 94,-1030\"/>\n",
       "<text text-anchor=\"middle\" x=\"47\" y=\"-997.3\" font-family=\"Times,serif\" font-size=\"14.00\">bn_in3a_1x1</text>\n",
       "</g>\n",
       "<!-- bn_in3a_1x1&#45;&gt;conv_in3a_1x1 -->\n",
       "<g id=\"edge2\" class=\"edge\"><title>bn_in3a_1x1&#45;&gt;conv_in3a_1x1</title>\n",
       "<path fill=\"none\" stroke=\"black\" d=\"M48.2831,-961.507C49.1516,-935.451 50.2793,-901.621 51.0638,-878.087\"/>\n",
       "<polygon fill=\"black\" stroke=\"black\" points=\"47.9405,-971.786 43.7762,-961.642 48.1071,-966.789 48.2737,-961.792 48.2737,-961.792 48.2737,-961.792 48.1071,-966.789 52.7712,-961.942 47.9405,-971.786 47.9405,-971.786\"/>\n",
       "<text text-anchor=\"middle\" x=\"78.5\" y=\"-921.3\" font-family=\"Times,serif\" font-size=\"14.00\">64x28x28</text>\n",
       "</g>\n",
       "<!-- relu_in3a_1x1 -->\n",
       "<g id=\"node4\" class=\"node\"><title>relu_in3a_1x1</title>\n",
       "<polygon fill=\"#ffffb3\" stroke=\"black\" points=\"116,-1182 22,-1182 22,-1124 116,-1124 116,-1182\"/>\n",
       "<text text-anchor=\"middle\" x=\"69\" y=\"-1156.8\" font-family=\"Times,serif\" font-size=\"14.00\">Activation</text>\n",
       "<text text-anchor=\"middle\" x=\"69\" y=\"-1141.8\" font-family=\"Times,serif\" font-size=\"14.00\">relu</text>\n",
       "</g>\n",
       "<!-- relu_in3a_1x1&#45;&gt;bn_in3a_1x1 -->\n",
       "<g id=\"edge3\" class=\"edge\"><title>relu_in3a_1x1&#45;&gt;bn_in3a_1x1</title>\n",
       "<path fill=\"none\" stroke=\"black\" d=\"M57.6921,-1114.13C57.0611,-1111.39 56.4871,-1108.66 56,-1106 51.3706,-1080.69 49.1078,-1051.46 48.0106,-1030.44\"/>\n",
       "<polygon fill=\"black\" stroke=\"black\" points=\"60.1724,-1123.98 53.3655,-1115.38 58.9508,-1119.13 57.7292,-1114.28 57.7292,-1114.28 57.7292,-1114.28 58.9508,-1119.13 62.0928,-1113.18 60.1724,-1123.98 60.1724,-1123.98\"/>\n",
       "<text text-anchor=\"middle\" x=\"83.5\" y=\"-1073.3\" font-family=\"Times,serif\" font-size=\"14.00\">64x28x28</text>\n",
       "</g>\n",
       "<!-- conv_in3a_3x3_reduce -->\n",
       "<g id=\"node5\" class=\"node\"><title>conv_in3a_3x3_reduce</title>\n",
       "<polygon fill=\"#fb8072\" stroke=\"black\" points=\"214,-464 120,-464 120,-406 214,-406 214,-464\"/>\n",
       "<text text-anchor=\"middle\" x=\"167\" y=\"-438.8\" font-family=\"Times,serif\" font-size=\"14.00\">Convolution</text>\n",
       "<text text-anchor=\"middle\" x=\"167\" y=\"-423.8\" font-family=\"Times,serif\" font-size=\"14.00\">1x1/1x1, 64</text>\n",
       "</g>\n",
       "<!-- conv_in3a_3x3_reduce&#45;&gt;Previous Output -->\n",
       "<g id=\"edge4\" class=\"edge\"><title>conv_in3a_3x3_reduce&#45;&gt;Previous Output</title>\n",
       "<path fill=\"none\" stroke=\"black\" d=\"M167,-395.747C167,-370.079 167,-335.51 167,-305 167,-305 167,-305 167,-138 167,-110.254 174.058,-79.291 180.179,-57.6565\"/>\n",
       "<polygon fill=\"black\" stroke=\"black\" points=\"167,-405.816 162.5,-395.815 167,-400.816 167,-395.816 167,-395.816 167,-395.816 167,-400.816 171.5,-395.816 167,-405.816 167,-405.816\"/>\n",
       "<text text-anchor=\"middle\" x=\"191\" y=\"-245.3\" font-family=\"Times,serif\" font-size=\"14.00\">3x28x28</text>\n",
       "</g>\n",
       "<!-- bn_in3a_3x3_reduce -->\n",
       "<g id=\"node6\" class=\"node\"><title>bn_in3a_3x3_reduce</title>\n",
       "<polygon fill=\"#bebada\" stroke=\"black\" points=\"214,-650 120,-650 120,-592 214,-592 214,-650\"/>\n",
       "<text text-anchor=\"middle\" x=\"167\" y=\"-617.3\" font-family=\"Times,serif\" font-size=\"14.00\">bn_in3a_3x3_reduce</text>\n",
       "</g>\n",
       "<!-- bn_in3a_3x3_reduce&#45;&gt;conv_in3a_3x3_reduce -->\n",
       "<g id=\"edge5\" class=\"edge\"><title>bn_in3a_3x3_reduce&#45;&gt;conv_in3a_3x3_reduce</title>\n",
       "<path fill=\"none\" stroke=\"black\" d=\"M167,-581.315C167,-546.245 167,-495.392 167,-464.077\"/>\n",
       "<polygon fill=\"black\" stroke=\"black\" points=\"167,-591.653 162.5,-581.653 167,-586.653 167,-581.653 167,-581.653 167,-581.653 167,-586.653 171.5,-581.653 167,-591.653 167,-591.653\"/>\n",
       "<text text-anchor=\"middle\" x=\"194.5\" y=\"-562.3\" font-family=\"Times,serif\" font-size=\"14.00\">64x28x28</text>\n",
       "</g>\n",
       "<!-- relu_in3a_3x3_reduce -->\n",
       "<g id=\"node7\" class=\"node\"><title>relu_in3a_3x3_reduce</title>\n",
       "<polygon fill=\"#ffffb3\" stroke=\"black\" points=\"214,-802 120,-802 120,-744 214,-744 214,-802\"/>\n",
       "<text text-anchor=\"middle\" x=\"167\" y=\"-776.8\" font-family=\"Times,serif\" font-size=\"14.00\">Activation</text>\n",
       "<text text-anchor=\"middle\" x=\"167\" y=\"-761.8\" font-family=\"Times,serif\" font-size=\"14.00\">relu</text>\n",
       "</g>\n",
       "<!-- relu_in3a_3x3_reduce&#45;&gt;bn_in3a_3x3_reduce -->\n",
       "<g id=\"edge6\" class=\"edge\"><title>relu_in3a_3x3_reduce&#45;&gt;bn_in3a_3x3_reduce</title>\n",
       "<path fill=\"none\" stroke=\"black\" d=\"M167,-733.507C167,-707.451 167,-673.621 167,-650.087\"/>\n",
       "<polygon fill=\"black\" stroke=\"black\" points=\"167,-743.786 162.5,-733.786 167,-738.786 167,-733.786 167,-733.786 167,-733.786 167,-738.786 171.5,-733.786 167,-743.786 167,-743.786\"/>\n",
       "<text text-anchor=\"middle\" x=\"194.5\" y=\"-693.3\" font-family=\"Times,serif\" font-size=\"14.00\">64x28x28</text>\n",
       "</g>\n",
       "<!-- conv_in3a_3x3 -->\n",
       "<g id=\"node8\" class=\"node\"><title>conv_in3a_3x3</title>\n",
       "<polygon fill=\"#fb8072\" stroke=\"black\" points=\"214,-954 120,-954 120,-896 214,-896 214,-954\"/>\n",
       "<text text-anchor=\"middle\" x=\"167\" y=\"-928.8\" font-family=\"Times,serif\" font-size=\"14.00\">Convolution</text>\n",
       "<text text-anchor=\"middle\" x=\"167\" y=\"-913.8\" font-family=\"Times,serif\" font-size=\"14.00\">3x3/1x1, 64</text>\n",
       "</g>\n",
       "<!-- conv_in3a_3x3&#45;&gt;relu_in3a_3x3_reduce -->\n",
       "<g id=\"edge7\" class=\"edge\"><title>conv_in3a_3x3&#45;&gt;relu_in3a_3x3_reduce</title>\n",
       "<path fill=\"none\" stroke=\"black\" d=\"M167,-885.507C167,-859.451 167,-825.621 167,-802.087\"/>\n",
       "<polygon fill=\"black\" stroke=\"black\" points=\"167,-895.786 162.5,-885.786 167,-890.786 167,-885.786 167,-885.786 167,-885.786 167,-890.786 171.5,-885.786 167,-895.786 167,-895.786\"/>\n",
       "<text text-anchor=\"middle\" x=\"194.5\" y=\"-845.3\" font-family=\"Times,serif\" font-size=\"14.00\">64x28x28</text>\n",
       "</g>\n",
       "<!-- bn_in3a_3x3 -->\n",
       "<g id=\"node9\" class=\"node\"><title>bn_in3a_3x3</title>\n",
       "<polygon fill=\"#bebada\" stroke=\"black\" points=\"214,-1106 120,-1106 120,-1048 214,-1048 214,-1106\"/>\n",
       "<text text-anchor=\"middle\" x=\"167\" y=\"-1073.3\" font-family=\"Times,serif\" font-size=\"14.00\">bn_in3a_3x3</text>\n",
       "</g>\n",
       "<!-- bn_in3a_3x3&#45;&gt;conv_in3a_3x3 -->\n",
       "<g id=\"edge8\" class=\"edge\"><title>bn_in3a_3x3&#45;&gt;conv_in3a_3x3</title>\n",
       "<path fill=\"none\" stroke=\"black\" d=\"M167,-1037.51C167,-1011.45 167,-977.621 167,-954.087\"/>\n",
       "<polygon fill=\"black\" stroke=\"black\" points=\"167,-1047.79 162.5,-1037.79 167,-1042.79 167,-1037.79 167,-1037.79 167,-1037.79 167,-1042.79 171.5,-1037.79 167,-1047.79 167,-1047.79\"/>\n",
       "<text text-anchor=\"middle\" x=\"194.5\" y=\"-997.3\" font-family=\"Times,serif\" font-size=\"14.00\">64x28x28</text>\n",
       "</g>\n",
       "<!-- relu_in3a_3x3 -->\n",
       "<g id=\"node10\" class=\"node\"><title>relu_in3a_3x3</title>\n",
       "<polygon fill=\"#ffffb3\" stroke=\"black\" points=\"214,-1258 120,-1258 120,-1200 214,-1200 214,-1258\"/>\n",
       "<text text-anchor=\"middle\" x=\"167\" y=\"-1232.8\" font-family=\"Times,serif\" font-size=\"14.00\">Activation</text>\n",
       "<text text-anchor=\"middle\" x=\"167\" y=\"-1217.8\" font-family=\"Times,serif\" font-size=\"14.00\">relu</text>\n",
       "</g>\n",
       "<!-- relu_in3a_3x3&#45;&gt;bn_in3a_3x3 -->\n",
       "<g id=\"edge9\" class=\"edge\"><title>relu_in3a_3x3&#45;&gt;bn_in3a_3x3</title>\n",
       "<path fill=\"none\" stroke=\"black\" d=\"M167,-1189.51C167,-1163.45 167,-1129.62 167,-1106.09\"/>\n",
       "<polygon fill=\"black\" stroke=\"black\" points=\"167,-1199.79 162.5,-1189.79 167,-1194.79 167,-1189.79 167,-1189.79 167,-1189.79 167,-1194.79 171.5,-1189.79 167,-1199.79 167,-1199.79\"/>\n",
       "<text text-anchor=\"middle\" x=\"194.5\" y=\"-1149.3\" font-family=\"Times,serif\" font-size=\"14.00\">64x28x28</text>\n",
       "</g>\n",
       "<!-- conv_in3a_double_3x3_reduce -->\n",
       "<g id=\"node11\" class=\"node\"><title>conv_in3a_double_3x3_reduce</title>\n",
       "<polygon fill=\"#fb8072\" stroke=\"black\" points=\"299,-168 205,-168 205,-110 299,-110 299,-168\"/>\n",
       "<text text-anchor=\"middle\" x=\"252\" y=\"-142.8\" font-family=\"Times,serif\" font-size=\"14.00\">Convolution</text>\n",
       "<text text-anchor=\"middle\" x=\"252\" y=\"-127.8\" font-family=\"Times,serif\" font-size=\"14.00\">1x1/1x1, 64</text>\n",
       "</g>\n",
       "<!-- conv_in3a_double_3x3_reduce&#45;&gt;Previous Output -->\n",
       "<g id=\"edge10\" class=\"edge\"><title>conv_in3a_double_3x3_reduce&#45;&gt;Previous Output</title>\n",
       "<path fill=\"none\" stroke=\"black\" d=\"M230.456,-101.068C221.908,-86.4142 212.27,-69.8912 204.439,-56.4673\"/>\n",
       "<polygon fill=\"black\" stroke=\"black\" points=\"235.612,-109.906 226.686,-103.536 233.093,-105.587 230.573,-101.268 230.573,-101.268 230.573,-101.268 233.093,-105.587 234.46,-99.001 235.612,-109.906 235.612,-109.906\"/>\n",
       "<text text-anchor=\"middle\" x=\"248\" y=\"-80.3\" font-family=\"Times,serif\" font-size=\"14.00\">3x28x28</text>\n",
       "</g>\n",
       "<!-- bn_in3a_double_3x3_reduce -->\n",
       "<g id=\"node12\" class=\"node\"><title>bn_in3a_double_3x3_reduce</title>\n",
       "<polygon fill=\"#bebada\" stroke=\"black\" points=\"327,-278 233,-278 233,-220 327,-220 327,-278\"/>\n",
       "<text text-anchor=\"middle\" x=\"280\" y=\"-245.3\" font-family=\"Times,serif\" font-size=\"14.00\">bn_in3a_double_3x3_reduce</text>\n",
       "</g>\n",
       "<!-- bn_in3a_double_3x3_reduce&#45;&gt;conv_in3a_double_3x3_reduce -->\n",
       "<g id=\"edge11\" class=\"edge\"><title>bn_in3a_double_3x3_reduce&#45;&gt;conv_in3a_double_3x3_reduce</title>\n",
       "<path fill=\"none\" stroke=\"black\" d=\"M270.204,-210.215C266.635,-196.449 262.664,-181.134 259.344,-168.328\"/>\n",
       "<polygon fill=\"black\" stroke=\"black\" points=\"272.716,-219.906 265.851,-211.356 271.462,-215.066 270.207,-210.226 270.207,-210.226 270.207,-210.226 271.462,-215.066 274.563,-209.097 272.716,-219.906 272.716,-219.906\"/>\n",
       "<text text-anchor=\"middle\" x=\"294.5\" y=\"-190.3\" font-family=\"Times,serif\" font-size=\"14.00\">64x28x28</text>\n",
       "</g>\n",
       "<!-- relu_in3a_double_3x3_reduce -->\n",
       "<g id=\"node13\" class=\"node\"><title>relu_in3a_double_3x3_reduce</title>\n",
       "<polygon fill=\"#ffffb3\" stroke=\"black\" points=\"327,-388 233,-388 233,-330 327,-330 327,-388\"/>\n",
       "<text text-anchor=\"middle\" x=\"280\" y=\"-362.8\" font-family=\"Times,serif\" font-size=\"14.00\">Activation</text>\n",
       "<text text-anchor=\"middle\" x=\"280\" y=\"-347.8\" font-family=\"Times,serif\" font-size=\"14.00\">relu</text>\n",
       "</g>\n",
       "<!-- relu_in3a_double_3x3_reduce&#45;&gt;bn_in3a_double_3x3_reduce -->\n",
       "<g id=\"edge12\" class=\"edge\"><title>relu_in3a_double_3x3_reduce&#45;&gt;bn_in3a_double_3x3_reduce</title>\n",
       "<path fill=\"none\" stroke=\"black\" d=\"M280,-319.813C280,-306.152 280,-291.009 280,-278.328\"/>\n",
       "<polygon fill=\"black\" stroke=\"black\" points=\"280,-329.906 275.5,-319.906 280,-324.906 280,-319.906 280,-319.906 280,-319.906 280,-324.906 284.5,-319.906 280,-329.906 280,-329.906\"/>\n",
       "<text text-anchor=\"middle\" x=\"307.5\" y=\"-300.3\" font-family=\"Times,serif\" font-size=\"14.00\">64x28x28</text>\n",
       "</g>\n",
       "<!-- conv_in3a_double_3x3_0 -->\n",
       "<g id=\"node14\" class=\"node\"><title>conv_in3a_double_3x3_0</title>\n",
       "<polygon fill=\"#fb8072\" stroke=\"black\" points=\"326,-540 232,-540 232,-482 326,-482 326,-540\"/>\n",
       "<text text-anchor=\"middle\" x=\"279\" y=\"-514.8\" font-family=\"Times,serif\" font-size=\"14.00\">Convolution</text>\n",
       "<text text-anchor=\"middle\" x=\"279\" y=\"-499.8\" font-family=\"Times,serif\" font-size=\"14.00\">3x3/1x1, 96</text>\n",
       "</g>\n",
       "<!-- conv_in3a_double_3x3_0&#45;&gt;relu_in3a_double_3x3_reduce -->\n",
       "<g id=\"edge13\" class=\"edge\"><title>conv_in3a_double_3x3_0&#45;&gt;relu_in3a_double_3x3_reduce</title>\n",
       "<path fill=\"none\" stroke=\"black\" d=\"M279.257,-471.507C279.43,-445.451 279.656,-411.621 279.813,-388.087\"/>\n",
       "<polygon fill=\"black\" stroke=\"black\" points=\"279.188,-481.786 274.755,-471.756 279.221,-476.786 279.255,-471.786 279.255,-471.786 279.255,-471.786 279.221,-476.786 283.755,-471.816 279.188,-481.786 279.188,-481.786\"/>\n",
       "<text text-anchor=\"middle\" x=\"306.5\" y=\"-431.3\" font-family=\"Times,serif\" font-size=\"14.00\">64x28x28</text>\n",
       "</g>\n",
       "<!-- bn_in3a_double_3x3_0 -->\n",
       "<g id=\"node15\" class=\"node\"><title>bn_in3a_double_3x3_0</title>\n",
       "<polygon fill=\"#bebada\" stroke=\"black\" points=\"326,-650 232,-650 232,-592 326,-592 326,-650\"/>\n",
       "<text text-anchor=\"middle\" x=\"279\" y=\"-617.3\" font-family=\"Times,serif\" font-size=\"14.00\">bn_in3a_double_3x3_0</text>\n",
       "</g>\n",
       "<!-- bn_in3a_double_3x3_0&#45;&gt;conv_in3a_double_3x3_0 -->\n",
       "<g id=\"edge14\" class=\"edge\"><title>bn_in3a_double_3x3_0&#45;&gt;conv_in3a_double_3x3_0</title>\n",
       "<path fill=\"none\" stroke=\"black\" d=\"M279,-581.813C279,-568.152 279,-553.009 279,-540.328\"/>\n",
       "<polygon fill=\"black\" stroke=\"black\" points=\"279,-591.906 274.5,-581.906 279,-586.906 279,-581.906 279,-581.906 279,-581.906 279,-586.906 283.5,-581.906 279,-591.906 279,-591.906\"/>\n",
       "<text text-anchor=\"middle\" x=\"306.5\" y=\"-562.3\" font-family=\"Times,serif\" font-size=\"14.00\">96x28x28</text>\n",
       "</g>\n",
       "<!-- relu_in3a_double_3x3_0 -->\n",
       "<g id=\"node16\" class=\"node\"><title>relu_in3a_double_3x3_0</title>\n",
       "<polygon fill=\"#ffffb3\" stroke=\"black\" points=\"326,-802 232,-802 232,-744 326,-744 326,-802\"/>\n",
       "<text text-anchor=\"middle\" x=\"279\" y=\"-776.8\" font-family=\"Times,serif\" font-size=\"14.00\">Activation</text>\n",
       "<text text-anchor=\"middle\" x=\"279\" y=\"-761.8\" font-family=\"Times,serif\" font-size=\"14.00\">relu</text>\n",
       "</g>\n",
       "<!-- relu_in3a_double_3x3_0&#45;&gt;bn_in3a_double_3x3_0 -->\n",
       "<g id=\"edge15\" class=\"edge\"><title>relu_in3a_double_3x3_0&#45;&gt;bn_in3a_double_3x3_0</title>\n",
       "<path fill=\"none\" stroke=\"black\" d=\"M276.314,-733.731C276.189,-731.116 276.082,-728.52 276,-726 275.161,-700.236 275.161,-693.764 276,-668 276.188,-662.241 276.507,-656.083 276.869,-650.205\"/>\n",
       "<polygon fill=\"black\" stroke=\"black\" points=\"276.869,-743.795 271.826,-734.058 276.594,-738.802 276.319,-733.81 276.319,-733.81 276.319,-733.81 276.594,-738.802 280.812,-733.562 276.869,-743.795 276.869,-743.795\"/>\n",
       "<text text-anchor=\"middle\" x=\"303.5\" y=\"-693.3\" font-family=\"Times,serif\" font-size=\"14.00\">96x28x28</text>\n",
       "</g>\n",
       "<!-- conv_in3a_double_3x3_1 -->\n",
       "<g id=\"node17\" class=\"node\"><title>conv_in3a_double_3x3_1</title>\n",
       "<polygon fill=\"#fb8072\" stroke=\"black\" points=\"326,-954 232,-954 232,-896 326,-896 326,-954\"/>\n",
       "<text text-anchor=\"middle\" x=\"279\" y=\"-928.8\" font-family=\"Times,serif\" font-size=\"14.00\">Convolution</text>\n",
       "<text text-anchor=\"middle\" x=\"279\" y=\"-913.8\" font-family=\"Times,serif\" font-size=\"14.00\">3x3/1x1, 96</text>\n",
       "</g>\n",
       "<!-- conv_in3a_double_3x3_1&#45;&gt;relu_in3a_double_3x3_0 -->\n",
       "<g id=\"edge16\" class=\"edge\"><title>conv_in3a_double_3x3_1&#45;&gt;relu_in3a_double_3x3_0</title>\n",
       "<path fill=\"none\" stroke=\"black\" d=\"M279,-885.507C279,-859.451 279,-825.621 279,-802.087\"/>\n",
       "<polygon fill=\"black\" stroke=\"black\" points=\"279,-895.786 274.5,-885.786 279,-890.786 279,-885.786 279,-885.786 279,-885.786 279,-890.786 283.5,-885.786 279,-895.786 279,-895.786\"/>\n",
       "<text text-anchor=\"middle\" x=\"306.5\" y=\"-845.3\" font-family=\"Times,serif\" font-size=\"14.00\">96x28x28</text>\n",
       "</g>\n",
       "<!-- bn_in3a_double_3x3_1 -->\n",
       "<g id=\"node18\" class=\"node\"><title>bn_in3a_double_3x3_1</title>\n",
       "<polygon fill=\"#bebada\" stroke=\"black\" points=\"326,-1106 232,-1106 232,-1048 326,-1048 326,-1106\"/>\n",
       "<text text-anchor=\"middle\" x=\"279\" y=\"-1073.3\" font-family=\"Times,serif\" font-size=\"14.00\">bn_in3a_double_3x3_1</text>\n",
       "</g>\n",
       "<!-- bn_in3a_double_3x3_1&#45;&gt;conv_in3a_double_3x3_1 -->\n",
       "<g id=\"edge17\" class=\"edge\"><title>bn_in3a_double_3x3_1&#45;&gt;conv_in3a_double_3x3_1</title>\n",
       "<path fill=\"none\" stroke=\"black\" d=\"M279,-1037.51C279,-1011.45 279,-977.621 279,-954.087\"/>\n",
       "<polygon fill=\"black\" stroke=\"black\" points=\"279,-1047.79 274.5,-1037.79 279,-1042.79 279,-1037.79 279,-1037.79 279,-1037.79 279,-1042.79 283.5,-1037.79 279,-1047.79 279,-1047.79\"/>\n",
       "<text text-anchor=\"middle\" x=\"306.5\" y=\"-997.3\" font-family=\"Times,serif\" font-size=\"14.00\">96x28x28</text>\n",
       "</g>\n",
       "<!-- relu_in3a_double_3x3_1 -->\n",
       "<g id=\"node19\" class=\"node\"><title>relu_in3a_double_3x3_1</title>\n",
       "<polygon fill=\"#ffffb3\" stroke=\"black\" points=\"326,-1258 232,-1258 232,-1200 326,-1200 326,-1258\"/>\n",
       "<text text-anchor=\"middle\" x=\"279\" y=\"-1232.8\" font-family=\"Times,serif\" font-size=\"14.00\">Activation</text>\n",
       "<text text-anchor=\"middle\" x=\"279\" y=\"-1217.8\" font-family=\"Times,serif\" font-size=\"14.00\">relu</text>\n",
       "</g>\n",
       "<!-- relu_in3a_double_3x3_1&#45;&gt;bn_in3a_double_3x3_1 -->\n",
       "<g id=\"edge18\" class=\"edge\"><title>relu_in3a_double_3x3_1&#45;&gt;bn_in3a_double_3x3_1</title>\n",
       "<path fill=\"none\" stroke=\"black\" d=\"M279,-1189.51C279,-1163.45 279,-1129.62 279,-1106.09\"/>\n",
       "<polygon fill=\"black\" stroke=\"black\" points=\"279,-1199.79 274.5,-1189.79 279,-1194.79 279,-1189.79 279,-1189.79 279,-1189.79 279,-1194.79 283.5,-1189.79 279,-1199.79 279,-1199.79\"/>\n",
       "<text text-anchor=\"middle\" x=\"306.5\" y=\"-1149.3\" font-family=\"Times,serif\" font-size=\"14.00\">96x28x28</text>\n",
       "</g>\n",
       "<!-- avg_pool_in3a_pool -->\n",
       "<g id=\"node20\" class=\"node\"><title>avg_pool_in3a_pool</title>\n",
       "<polygon fill=\"#80b1d3\" stroke=\"black\" points=\"434,-726 340,-726 340,-668 434,-668 434,-726\"/>\n",
       "<text text-anchor=\"middle\" x=\"387\" y=\"-700.8\" font-family=\"Times,serif\" font-size=\"14.00\">Pooling</text>\n",
       "<text text-anchor=\"middle\" x=\"387\" y=\"-685.8\" font-family=\"Times,serif\" font-size=\"14.00\">avg, 3x3/1x1</text>\n",
       "</g>\n",
       "<!-- avg_pool_in3a_pool&#45;&gt;Previous Output -->\n",
       "<g id=\"edge19\" class=\"edge\"><title>avg_pool_in3a_pool&#45;&gt;Previous Output</title>\n",
       "<path fill=\"none\" stroke=\"black\" d=\"M382.03,-657.82C379.115,-632.182 376,-597.621 376,-567 376,-567 376,-567 376,-138 376,-72.9535 290.106,-46.4685 234.745,-36.1535\"/>\n",
       "<polygon fill=\"black\" stroke=\"black\" points=\"383.214,-667.874 377.575,-658.47 382.629,-662.909 382.044,-657.943 382.044,-657.943 382.044,-657.943 382.629,-662.909 386.513,-657.416 383.214,-667.874 383.214,-667.874\"/>\n",
       "<text text-anchor=\"middle\" x=\"400\" y=\"-355.3\" font-family=\"Times,serif\" font-size=\"14.00\">3x28x28</text>\n",
       "</g>\n",
       "<!-- conv_in3a_proj -->\n",
       "<g id=\"node21\" class=\"node\"><title>conv_in3a_proj</title>\n",
       "<polygon fill=\"#fb8072\" stroke=\"black\" points=\"438,-954 344,-954 344,-896 438,-896 438,-954\"/>\n",
       "<text text-anchor=\"middle\" x=\"391\" y=\"-928.8\" font-family=\"Times,serif\" font-size=\"14.00\">Convolution</text>\n",
       "<text text-anchor=\"middle\" x=\"391\" y=\"-913.8\" font-family=\"Times,serif\" font-size=\"14.00\">1x1/1x1, 32</text>\n",
       "</g>\n",
       "<!-- conv_in3a_proj&#45;&gt;avg_pool_in3a_pool -->\n",
       "<g id=\"edge20\" class=\"edge\"><title>conv_in3a_proj&#45;&gt;avg_pool_in3a_pool</title>\n",
       "<path fill=\"none\" stroke=\"black\" d=\"M390.324,-885.832C389.525,-840.644 388.212,-766.452 387.498,-726.165\"/>\n",
       "<polygon fill=\"black\" stroke=\"black\" points=\"390.501,-895.834 385.825,-885.915 390.413,-890.835 390.324,-885.835 390.324,-885.835 390.324,-885.835 390.413,-890.835 394.824,-885.756 390.501,-895.834 390.501,-895.834\"/>\n",
       "<text text-anchor=\"middle\" x=\"414\" y=\"-845.3\" font-family=\"Times,serif\" font-size=\"14.00\">3x28x28</text>\n",
       "</g>\n",
       "<!-- bn_in3a_proj -->\n",
       "<g id=\"node22\" class=\"node\"><title>bn_in3a_proj</title>\n",
       "<polygon fill=\"#bebada\" stroke=\"black\" points=\"438,-1106 344,-1106 344,-1048 438,-1048 438,-1106\"/>\n",
       "<text text-anchor=\"middle\" x=\"391\" y=\"-1073.3\" font-family=\"Times,serif\" font-size=\"14.00\">bn_in3a_proj</text>\n",
       "</g>\n",
       "<!-- bn_in3a_proj&#45;&gt;conv_in3a_proj -->\n",
       "<g id=\"edge21\" class=\"edge\"><title>bn_in3a_proj&#45;&gt;conv_in3a_proj</title>\n",
       "<path fill=\"none\" stroke=\"black\" d=\"M391,-1037.51C391,-1011.45 391,-977.621 391,-954.087\"/>\n",
       "<polygon fill=\"black\" stroke=\"black\" points=\"391,-1047.79 386.5,-1037.79 391,-1042.79 391,-1037.79 391,-1037.79 391,-1037.79 391,-1042.79 395.5,-1037.79 391,-1047.79 391,-1047.79\"/>\n",
       "<text text-anchor=\"middle\" x=\"418.5\" y=\"-997.3\" font-family=\"Times,serif\" font-size=\"14.00\">32x28x28</text>\n",
       "</g>\n",
       "<!-- relu_in3a_proj -->\n",
       "<g id=\"node23\" class=\"node\"><title>relu_in3a_proj</title>\n",
       "<polygon fill=\"#ffffb3\" stroke=\"black\" points=\"438,-1258 344,-1258 344,-1200 438,-1200 438,-1258\"/>\n",
       "<text text-anchor=\"middle\" x=\"391\" y=\"-1232.8\" font-family=\"Times,serif\" font-size=\"14.00\">Activation</text>\n",
       "<text text-anchor=\"middle\" x=\"391\" y=\"-1217.8\" font-family=\"Times,serif\" font-size=\"14.00\">relu</text>\n",
       "</g>\n",
       "<!-- relu_in3a_proj&#45;&gt;bn_in3a_proj -->\n",
       "<g id=\"edge22\" class=\"edge\"><title>relu_in3a_proj&#45;&gt;bn_in3a_proj</title>\n",
       "<path fill=\"none\" stroke=\"black\" d=\"M391,-1189.51C391,-1163.45 391,-1129.62 391,-1106.09\"/>\n",
       "<polygon fill=\"black\" stroke=\"black\" points=\"391,-1199.79 386.5,-1189.79 391,-1194.79 391,-1189.79 391,-1189.79 391,-1189.79 391,-1194.79 395.5,-1189.79 391,-1199.79 391,-1199.79\"/>\n",
       "<text text-anchor=\"middle\" x=\"418.5\" y=\"-1149.3\" font-family=\"Times,serif\" font-size=\"14.00\">32x28x28</text>\n",
       "</g>\n",
       "<!-- ch_concat_in3a_chconcat -->\n",
       "<g id=\"node24\" class=\"node\"><title>ch_concat_in3a_chconcat</title>\n",
       "<polygon fill=\"#fdb462\" stroke=\"black\" points=\"275,-1368 181,-1368 181,-1310 275,-1310 275,-1368\"/>\n",
       "<text text-anchor=\"middle\" x=\"228\" y=\"-1335.3\" font-family=\"Times,serif\" font-size=\"14.00\">ch_concat_in3a_chconcat</text>\n",
       "</g>\n",
       "<!-- ch_concat_in3a_chconcat&#45;&gt;relu_in3a_1x1 -->\n",
       "<g id=\"edge23\" class=\"edge\"><title>ch_concat_in3a_chconcat&#45;&gt;relu_in3a_1x1</title>\n",
       "<path fill=\"none\" stroke=\"black\" d=\"M171.222,-1321.65C154.673,-1314.67 137.659,-1305.04 125,-1292 95.1902,-1261.3 80.5188,-1212.62 73.8711,-1182.04\"/>\n",
       "<polygon fill=\"black\" stroke=\"black\" points=\"180.876,-1325.46 169.922,-1325.97 176.225,-1323.62 171.573,-1321.78 171.573,-1321.78 171.573,-1321.78 176.225,-1323.62 173.225,-1317.6 180.876,-1325.46 180.876,-1325.46\"/>\n",
       "<text text-anchor=\"middle\" x=\"152.5\" y=\"-1280.3\" font-family=\"Times,serif\" font-size=\"14.00\">64x28x28</text>\n",
       "</g>\n",
       "<!-- ch_concat_in3a_chconcat&#45;&gt;relu_in3a_3x3 -->\n",
       "<g id=\"edge24\" class=\"edge\"><title>ch_concat_in3a_chconcat&#45;&gt;relu_in3a_3x3</title>\n",
       "<path fill=\"none\" stroke=\"black\" d=\"M197.098,-1301.59C194.915,-1298.42 192.85,-1295.21 191,-1292 184.943,-1281.5 179.817,-1269.19 175.877,-1258.31\"/>\n",
       "<polygon fill=\"black\" stroke=\"black\" points=\"203.08,-1309.78 193.549,-1304.36 200.132,-1305.74 197.183,-1301.7 197.183,-1301.7 197.183,-1301.7 200.132,-1305.74 200.817,-1299.05 203.08,-1309.78 203.08,-1309.78\"/>\n",
       "<text text-anchor=\"middle\" x=\"218.5\" y=\"-1280.3\" font-family=\"Times,serif\" font-size=\"14.00\">64x28x28</text>\n",
       "</g>\n",
       "<!-- ch_concat_in3a_chconcat&#45;&gt;relu_in3a_double_3x3_1 -->\n",
       "<g id=\"edge25\" class=\"edge\"><title>ch_concat_in3a_chconcat&#45;&gt;relu_in3a_double_3x3_1</title>\n",
       "<path fill=\"none\" stroke=\"black\" d=\"M245.654,-1300.62C252.203,-1286.75 259.517,-1271.26 265.623,-1258.33\"/>\n",
       "<polygon fill=\"black\" stroke=\"black\" points=\"241.267,-1309.91 241.468,-1298.94 243.402,-1305.38 245.537,-1300.86 245.537,-1300.86 245.537,-1300.86 243.402,-1305.38 249.606,-1302.79 241.267,-1309.91 241.267,-1309.91\"/>\n",
       "<text text-anchor=\"middle\" x=\"283.5\" y=\"-1280.3\" font-family=\"Times,serif\" font-size=\"14.00\">96x28x28</text>\n",
       "</g>\n",
       "<!-- ch_concat_in3a_chconcat&#45;&gt;relu_in3a_proj -->\n",
       "<g id=\"edge26\" class=\"edge\"><title>ch_concat_in3a_chconcat&#45;&gt;relu_in3a_proj</title>\n",
       "<path fill=\"none\" stroke=\"black\" d=\"M284.149,-1310.41C294.619,-1304.68 305.307,-1298.42 315,-1292 330.329,-1281.84 346.25,-1269.22 359.536,-1258.02\"/>\n",
       "<polygon fill=\"black\" stroke=\"black\" points=\"275.035,-1315.3 281.721,-1306.61 279.441,-1312.94 283.848,-1310.57 283.848,-1310.57 283.848,-1310.57 279.441,-1312.94 285.975,-1314.54 275.035,-1315.3 275.035,-1315.3\"/>\n",
       "<text text-anchor=\"middle\" x=\"363.5\" y=\"-1280.3\" font-family=\"Times,serif\" font-size=\"14.00\">32x28x28</text>\n",
       "</g>\n",
       "</g>\n",
       "</svg>\n"
      ],
      "text/plain": [
       "<graphviz.dot.Digraph at 0x7f7a2837be10>"
      ]
     },
     "execution_count": 10,
     "metadata": {},
     "output_type": "execute_result"
    }
   ],
   "source": [
    "def InceptionFactoryA(data, num_1x1, num_3x3red, num_3x3, num_d3x3red, num_d3x3,\n",
    "                      pool, proj, name):\n",
    "    # 1x1\n",
    "    c1x1 = ConvFactory(data=data, num_filter=num_1x1, kernel=(1, 1), name=('%s_1x1' % name))\n",
    "    # 3x3 reduce + 3x3\n",
    "    c3x3r = ConvFactory(data=data, num_filter=num_3x3red, kernel=(1, 1), name=('%s_3x3' % name), suffix='_reduce')\n",
    "    c3x3 = ConvFactory(data=c3x3r, num_filter=num_3x3, kernel=(3, 3), pad=(1, 1), name=('%s_3x3' % name))\n",
    "    # double 3x3 reduce + double 3x3\n",
    "    cd3x3r = ConvFactory(data=data, num_filter=num_d3x3red, kernel=(1, 1), name=('%s_double_3x3' % name), suffix='_reduce')\n",
    "    cd3x3 = ConvFactory(data=cd3x3r, num_filter=num_d3x3, kernel=(3, 3), pad=(1, 1), name=('%s_double_3x3_0' % name))\n",
    "    cd3x3 = ConvFactory(data=cd3x3, num_filter=num_d3x3, kernel=(3, 3), pad=(1, 1), name=('%s_double_3x3_1' % name))\n",
    "    # pool + proj\n",
    "    pooling = mx.sym.Pooling(data=data, kernel=(3, 3), stride=(1, 1), pad=(1, 1), pool_type=pool, name=('%s_pool_%s_pool' % (pool, name)))\n",
    "    cproj = ConvFactory(data=pooling, num_filter=proj, kernel=(1, 1), name=('%s_proj' %  name))\n",
    "    # concat\n",
    "    concat = mx.sym.Concat(*[c1x1, c3x3, cd3x3, cproj], name='ch_concat_%s_chconcat' % name)\n",
    "    return concat\n",
    "prev = mx.sym.Variable(name=\"Previous Output\")\n",
    "in3a = InceptionFactoryA(prev, 64, 64, 64, 64, 96, \"avg\", 32, name=\"in3a\")\n",
    "mx.viz.plot_network(symbol=in3a, shape=shape)"
   ]
  },
  {
   "cell_type": "markdown",
   "metadata": {},
   "source": [
    "Finally, we can obtain the whole network by chaining multiple inception\n",
    "modules. See a complete example\n",
    "[here](https://github.com/dmlc/mxnet/blob/master/example/image-classification/symbols/inception-bn.py).\n",
    "\n",
    "### Group Multiple Symbols\n",
    "\n",
    "To construct neural networks with multiple loss layers, we can use\n",
    "`mxnet.sym.Group` to group multiple symbols together. The following example\n",
    "groups two outputs:"
   ]
  },
  {
   "cell_type": "code",
   "execution_count": 11,
   "metadata": {},
   "outputs": [
    {
     "data": {
      "text/plain": [
       "['softmax_output', 'regression_output']"
      ]
     },
     "execution_count": 11,
     "metadata": {},
     "output_type": "execute_result"
    }
   ],
   "source": [
    "net = mx.sym.Variable('data')\n",
    "fc1 = mx.sym.FullyConnected(data=net, name='fc1', num_hidden=128)\n",
    "net = mx.sym.Activation(data=fc1, name='relu1', act_type=\"relu\")\n",
    "out1 = mx.sym.SoftmaxOutput(data=net, name='softmax')\n",
    "out2 = mx.sym.LinearRegressionOutput(data=net, name='regression')\n",
    "group = mx.sym.Group([out1, out2])\n",
    "group.list_outputs()"
   ]
  },
  {
   "cell_type": "markdown",
   "metadata": {},
   "source": [
    "## Relations to NDArray\n",
    "\n",
    "As you can see now, both `Symbol` and `NDArray` provide multi-dimensional array\n",
    "operations, such as `c = a + b` in MXNet. We briefly clarify the differences here.\n",
    "\n",
    "The `NDArray` provides an imperative programming alike interface, in which the\n",
    "computations are evaluated sentence by sentence. While `Symbol` is closer to\n",
    "declarative programming, in which we first declare the computation and then\n",
    "evaluate with data. Examples in this category include regular expressions and\n",
    "SQL.\n",
    "\n",
    "The pros for `NDArray`:\n",
    "\n",
    "- Straightforward.\n",
    "- Easy to work with native language features (for loop, if-else condition, ..)\n",
    "  and libraries (numpy, ..).\n",
    "- Easy step-by-step code debugging.\n",
    "\n",
    "The pros for `Symbol`:\n",
    "\n",
    "- Provides almost all functionalities of NDArray, such as `+`, `*`, `sin`,\n",
    "  `reshape` etc.\n",
    "- Easy to save, load and visualize.\n",
    "- Easy for the backend to optimize the computation and memory usage.\n",
    "\n",
    "## Symbol Manipulation\n",
    "\n",
    "One important difference of `Symbol` compared to `NDArray` is that we first\n",
    "declare the computation and then bind the computation with data to run.\n",
    "\n",
    "In this section, we introduce the functions to manipulate a symbol directly. But\n",
    "note that, most of them are wrapped by the `module` package.\n",
    "\n",
    "### Shape and Type Inference\n",
    "\n",
    "For each symbol, we can query its arguments, auxiliary states and outputs.\n",
    "We can also infer the output shape and type of the symbol given the known input\n",
    "shape or type of some arguments, which facilitates memory allocation."
   ]
  },
  {
   "cell_type": "code",
   "execution_count": 12,
   "metadata": {},
   "outputs": [
    {
     "data": {
      "text/plain": [
       "{'input': {'a': numpy.float32, 'b': numpy.float32},\n",
       " 'output': {'_plus0_output': numpy.float32}}"
      ]
     },
     "execution_count": 12,
     "metadata": {},
     "output_type": "execute_result"
    }
   ],
   "source": [
    "arg_name = c.list_arguments()  # get the names of the inputs\n",
    "out_name = c.list_outputs()    # get the names of the outputs\n",
    "# infers output shape given the shape of input arguments\n",
    "arg_shape, out_shape, _ = c.infer_shape(a=(2,3), b=(2,3))\n",
    "# infers output type given the type of input arguments\n",
    "arg_type, out_type, _ = c.infer_type(a='float32', b='float32')\n",
    "{'input' : dict(zip(arg_name, arg_shape)),\n",
    " 'output' : dict(zip(out_name, out_shape))}\n",
    "{'input' : dict(zip(arg_name, arg_type)),\n",
    " 'output' : dict(zip(out_name, out_type))}"
   ]
  },
  {
   "cell_type": "markdown",
   "metadata": {},
   "source": [
    "### Bind with Data and Evaluate\n",
    "\n",
    "The symbol `c` constructed above declares what computation should be run. To\n",
    "evaluate it, we first need to feed the arguments, namely free variables, with data.\n",
    "\n",
    "We can do it by using the `bind` method, which accepts device context and\n",
    "a `dict` mapping free variable names to `NDArray`s as arguments and returns an\n",
    "executor. The executor provides `forward` method for evaluation and an attribute\n",
    "`outputs` to get all the results."
   ]
  },
  {
   "cell_type": "code",
   "execution_count": 13,
   "metadata": {},
   "outputs": [
    {
     "name": "stdout",
     "output_type": "stream",
     "text": [
      "number of outputs = 1\n",
      "the first output = \n",
      "[[ 2.  2.  2.]\n",
      " [ 2.  2.  2.]]\n"
     ]
    }
   ],
   "source": [
    "ex = c.bind(ctx=mx.cpu(), args={'a' : mx.nd.ones([2,3]),\n",
    "                                'b' : mx.nd.ones([2,3])})\n",
    "ex.forward()\n",
    "print('number of outputs = %d\\nthe first output = \\n%s' % (\n",
    "           len(ex.outputs), ex.outputs[0].asnumpy()))"
   ]
  },
  {
   "cell_type": "markdown",
   "metadata": {},
   "source": [
    "We can evaluate the same symbol on GPU with different data.\n",
    "\n",
    "**Note** In order to execute the following section on a cpu set gpu_device to mx.cpu()."
   ]
  },
  {
   "cell_type": "code",
   "execution_count": 14,
   "metadata": {},
   "outputs": [
    {
     "data": {
      "text/plain": [
       "array([[ 5.,  5.,  5.,  5.],\n",
       "       [ 5.,  5.,  5.,  5.],\n",
       "       [ 5.,  5.,  5.,  5.]], dtype=float32)"
      ]
     },
     "execution_count": 14,
     "metadata": {},
     "output_type": "execute_result"
    }
   ],
   "source": [
    "gpu_device=mx.gpu() # Change this to mx.cpu() in absence of GPUs.\n",
    "\n",
    "ex_gpu = c.bind(ctx=gpu_device, args={'a' : mx.nd.ones([3,4], gpu_device)*2,\n",
    "                                      'b' : mx.nd.ones([3,4], gpu_device)*3})\n",
    "ex_gpu.forward()\n",
    "ex_gpu.outputs[0].asnumpy()"
   ]
  },
  {
   "cell_type": "markdown",
   "metadata": {},
   "source": [
    "We can also use `eval` method to evaluate the symbol. It combines calls to `bind`\n",
    "and `forward` methods."
   ]
  },
  {
   "cell_type": "code",
   "execution_count": 15,
   "metadata": {},
   "outputs": [
    {
     "name": "stdout",
     "output_type": "stream",
     "text": [
      "number of outputs = 1\n",
      "the first output = \n",
      "[[ 2.  2.  2.]\n",
      " [ 2.  2.  2.]]\n"
     ]
    }
   ],
   "source": [
    "ex = c.eval(ctx = mx.cpu(), a = mx.nd.ones([2,3]), b = mx.nd.ones([2,3]))\n",
    "print('number of outputs = %d\\nthe first output = \\n%s' % (\n",
    "            len(ex), ex[0].asnumpy()))"
   ]
  },
  {
   "cell_type": "markdown",
   "metadata": {},
   "source": [
    "For neural nets, a more commonly used pattern is ```simple_bind```, which\n",
    "creates all of the argument arrays for you. Then you can call ```forward```,\n",
    "and ```backward``` (if the gradient is needed) to get the gradient.\n",
    "\n",
    "### Load and Save\n",
    "\n",
    "Logically symbols correspond to ndarrays. They both represent a tensor. They both\n",
    "are inputs/outputs of operators. We can either serialize a `Symbol` object by\n",
    "using `pickle`, or by using `save` and `load` methods directly as we discussed in\n",
    "[NDArray tutorial](http://mxnet.io/tutorials/basic/ndarray.html#serialize-from-to-distributed-filesystems).\n",
    "\n",
    "When serializing `NDArray`, we serialize the tensor data in it and directly dump to\n",
    "disk in binary format.\n",
    "But symbol uses a concept of graph. Graphs are composed by chaining operators. They are\n",
    "implicitly represented by output symbols. So, when serializing a `Symbol`, we\n",
    "serialize the graph of which the symbol is an output. While serialization, Symbol\n",
    "uses more readable `json` format for serialization. To convert symbol to `json`\n",
    "string, use `tojson` method."
   ]
  },
  {
   "cell_type": "code",
   "execution_count": 16,
   "metadata": {},
   "outputs": [
    {
     "name": "stdout",
     "output_type": "stream",
     "text": [
      "{\n",
      "  \"nodes\": [\n",
      "    {\n",
      "      \"op\": \"null\", \n",
      "      \"name\": \"a\", \n",
      "      \"inputs\": []\n",
      "    }, \n",
      "    {\n",
      "      \"op\": \"null\", \n",
      "      \"name\": \"b\", \n",
      "      \"inputs\": []\n",
      "    }, \n",
      "    {\n",
      "      \"op\": \"elemwise_add\", \n",
      "      \"name\": \"_plus0\", \n",
      "      \"inputs\": [[0, 0, 0], [1, 0, 0]]\n",
      "    }\n",
      "  ], \n",
      "  \"arg_nodes\": [0, 1], \n",
      "  \"node_row_ptr\": [0, 1, 2, 3], \n",
      "  \"heads\": [[2, 0, 0]], \n",
      "  \"attrs\": {\"mxnet_version\": [\"int\", 10001]}\n",
      "}\n"
     ]
    },
    {
     "data": {
      "text/plain": [
       "True"
      ]
     },
     "execution_count": 16,
     "metadata": {},
     "output_type": "execute_result"
    }
   ],
   "source": [
    "print(c.tojson())\n",
    "c.save('symbol-c.json')\n",
    "c2 = mx.sym.load('symbol-c.json')\n",
    "c.tojson() == c2.tojson()"
   ]
  },
  {
   "cell_type": "markdown",
   "metadata": {},
   "source": [
    "## Customized Symbol\n",
    "\n",
    "Most operators such as `mx.sym.Convolution` and `mx.sym.Reshape` are implemented\n",
    "in C++ for better performance. MXNet also allows users to write new operators\n",
    "using any front-end language such as Python. It often makes the developing and\n",
    "debugging much easier. To implement an operator in Python, refer to\n",
    "[How to create new operators](http://mxnet.io/how_to/new_op.html).\n",
    "\n",
    "## Advanced Usages\n",
    "\n",
    "### Type Cast\n",
    "\n",
    "By default, MXNet uses 32-bit floats.\n",
    "But for better accuracy-performance,\n",
    "we can also use a lower precision data type.\n",
    "For example, The Nvidia Tesla Pascal GPUs\n",
    "(e.g. P100) have improved 16-bit float performance,\n",
    "while GTX Pascal GPUs (e.g. GTX 1080) are fast on 8-bit integers.\n",
    "\n",
    "To convert the data type as per the requirements,\n",
    "we can use `mx.sym.cast` operator as follows:"
   ]
  },
  {
   "cell_type": "code",
   "execution_count": 17,
   "metadata": {},
   "outputs": [
    {
     "name": "stdout",
     "output_type": "stream",
     "text": [
      "{'input': [<class 'numpy.float32'>], 'output': [<class 'numpy.float16'>]}\n",
      "{'input': [<class 'numpy.int32'>], 'output': [<class 'numpy.uint8'>]}\n"
     ]
    }
   ],
   "source": [
    "a = mx.sym.Variable('data')\n",
    "b = mx.sym.cast(data=a, dtype='float16')\n",
    "arg, out, _ = b.infer_type(data='float32')\n",
    "print({'input':arg, 'output':out})\n",
    "\n",
    "c = mx.sym.cast(data=a, dtype='uint8')\n",
    "arg, out, _ = c.infer_type(data='int32')\n",
    "print({'input':arg, 'output':out})"
   ]
  },
  {
   "cell_type": "markdown",
   "metadata": {},
   "source": [
    "### Variable Sharing\n",
    "\n",
    "To share the contents between several symbols,\n",
    "we can bind these symbols with the same array as follows:"
   ]
  },
  {
   "cell_type": "code",
   "execution_count": 18,
   "metadata": {},
   "outputs": [
    {
     "data": {
      "text/plain": [
       "array([[ 6.,  6.,  6.],\n",
       "       [ 6.,  6.,  6.]], dtype=float32)"
      ]
     },
     "execution_count": 18,
     "metadata": {},
     "output_type": "execute_result"
    }
   ],
   "source": [
    "a = mx.sym.Variable('a')\n",
    "b = mx.sym.Variable('b')\n",
    "b = a + a * a\n",
    "\n",
    "data = mx.nd.ones((2,3))*2\n",
    "ex = b.bind(ctx=mx.cpu(), args={'a':data, 'b':data})\n",
    "ex.forward()\n",
    "ex.outputs[0].asnumpy()"
   ]
  },
  {
   "cell_type": "markdown",
   "metadata": {},
   "source": [
    "\n",
    "<!-- INSERT SOURCE DOWNLOAD BUTTONS -->\n",
    "\n"
   ]
  }
 ],
 "metadata": {
  "display_name": "",
  "kernelspec": {
   "display_name": "Python 3",
   "language": "python",
   "name": "python3"
  },
  "language_info": {
   "codemirror_mode": {
    "name": "ipython",
    "version": 3
   },
   "file_extension": ".py",
   "mimetype": "text/x-python",
   "name": "python",
   "nbconvert_exporter": "python",
   "pygments_lexer": "ipython3",
   "version": "3.6.2"
  },
  "name": ""
 },
 "nbformat": 4,
 "nbformat_minor": 2
}
